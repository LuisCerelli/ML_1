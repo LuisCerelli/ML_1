{
 "cells": [
  {
   "cell_type": "code",
   "execution_count": 7,
   "metadata": {},
   "outputs": [
    {
     "name": "stdout",
     "output_type": "stream",
     "text": [
      "Archivo users_items.parquet y steam_games.csv creado con exito!\n"
     ]
    },
    {
     "data": {
      "text/plain": [
       "CompletedProcess(args=['open', '-R', '/Users/luisalbertocerelli/Desktop/00-Todo/Data Science/01-Full Time/TI_1/Datasets_para_Render/steam_games.parquet'], returncode=0)"
      ]
     },
     "execution_count": 7,
     "metadata": {},
     "output_type": "execute_result"
    }
   ],
   "source": [
    "import pandas as pd\n",
    "import os\n",
    "import subprocess\n",
    "\n",
    "# 1_steam_games : Codigo de lectura de archivo json normal\n",
    "\n",
    "df_1_steam_games = pd.read_json('/Users/luisalbertocerelli/Desktop/00-Todo/Data Science/01-Full Time/TI_1/Datasets_ORIGINALES/json descomprimidos/1_steam_games.json', encoding='utf-8', lines=True)\n",
    "\n",
    "# Hacemos un csv del df original:\n",
    "df_1_steam_games.to_csv('/Users/luisalbertocerelli/Desktop/00-Todo/Data Science/01-Full Time/TI_1/Datasets_ORIGINALES/csv/steam_games_ORIGINAL.csv', index=False)\n",
    "\n",
    " # Cambiamos YA MISMO el nombre de la columna \"id\" por \"item_id\" para evitar confusiones con otros datasets:\n",
    "df_1_steam_games.rename(columns={'id':'item_id'}, inplace=True)\n",
    "\n",
    "# Hacemos un csv con el cambio de nombre de la columna \"id\" por \"item_id\":\n",
    "df_1_steam_games.to_csv('df_1_steam_games_id_cambiado_para_no_confundir_despues.csv', index=False)\n",
    "\n",
    "#Comenzamos a hacer copias de los dataframes para ver cual es la mejor forma de alivianarlo en pesos de memoria\n",
    "df_1_steam_games_copia  = df_1_steam_games.copy()\n",
    "\n",
    "# Despues de varias pruebas, hemos adoptado por el Dropna completo: resultado 22530 filas\n",
    "df_1_steam_games_copia.dropna(inplace=True)\n",
    "\n",
    "#borramos columnas que no nos interesan:\n",
    "#df_1_steam_games_copia.drop(columns=['app_name','title','url','reviews_url','specs'], inplace=True)\n",
    "\n",
    "# borramos todas las filas que tengan caracteres raros, no legibles  en la columna publisher, principalmente ya que tiene nombres en 'chino', 'japones', etc.:\n",
    "df_1_steam_games_copia = df_1_steam_games_copia[~df_1_steam_games_copia['publisher'].str.contains(r'[^\\x00-\\x7F]', na=False)]\n",
    "\n",
    "#Columna 'price' convertimos en  valores válidos(float) y borramos valores no válidos\n",
    "df_1_steam_games_copia['price'] = df_1_steam_games_copia['price'].apply(lambda x: 0 if x is None or type(x) == str else float(x))\n",
    "\n",
    "#Cambiamos 'item_id' a object para poder hacer el merge con el otro dataset:\n",
    "df_1_steam_games_copia['item_id'] = df_1_steam_games_copia['item_id'].astype(str)\n",
    "\n",
    "# luego en el borrador hemos verificamos si todos los precios son numericos haciendo una suma total y el resultado fue exitoso;\n",
    "\n",
    " # Dejaremos solo 2000 filas elegidas al azar para hacer pruebas con menos datos:\n",
    "#df_1_steam_games_copia_2000 = df_1_steam_games_copia.sample(n=2000, random_state=1)\n",
    "\n",
    "# Reindexamos los indices:\n",
    "#df_1_steam_games_copia_2000.reset_index(drop=True, inplace=True)\n",
    "\n",
    "# comprimimos el df en un parquet, colocamos su nombre original, y lo guardamos en la carpeta de trabajo que se llamara 'Datasets_para_rendimiento':\n",
    "\n",
    "\n",
    "df_1_steam_games_copia.to_parquet('/Users/luisalbertocerelli/Desktop/00-Todo/Data Science/01-Full Time/TI_1/Datasets_para_Render/steam_games.parquet')\n",
    "\n",
    "\n",
    "# Generamos un archivo csv para visualizar los datos de manera mas sencilla y lo colocamos el archivo csv en la carpeta 'Datasets_para_render':\n",
    "df_1_steam_games_copia.to_csv('/Users/luisalbertocerelli/Desktop/00-Todo/Data Science/01-Full Time/TI_1/Datasets_para_Render/steam_games.csv', index=False)\n",
    "\n",
    " # Imprimimos entonces el exito de la operacion \n",
    "print('Archivo users_items.parquet y steam_games.csv creado con exito!')\n",
    "\n",
    "# Y dejamos el link para acceder a los archivos, para ello definimos las rutas:\n",
    "file_path = os.path.abspath('/Users/luisalbertocerelli/Desktop/00-Todo/Data Science/01-Full Time/TI_1/Datasets_para_Render/steam_games.parquet')\n",
    "\n",
    "# Define la ruta del archivo CSV\n",
    "csv_file_path = os.path.abspath('/Users/luisalbertocerelli/Desktop/00-Todo/Data Science/01-Full Time/TI_1/Datasets_para_Render/steam_games.csv')\n",
    "\n",
    "# Abre la ubicación del archivo CSV en Finder\n",
    "subprocess.run(['open', '-R', csv_file_path])\n",
    "\n",
    "# Abre la ubicación del archivo en Finder (Mac)\n",
    "subprocess.run(['open', '-R', file_path])"
   ]
  },
  {
   "cell_type": "code",
   "execution_count": 8,
   "metadata": {},
   "outputs": [
    {
     "name": "stdout",
     "output_type": "stream",
     "text": [
      "publisher        object\n",
      "genres           object\n",
      "app_name         object\n",
      "title            object\n",
      "url              object\n",
      "release_date     object\n",
      "tags             object\n",
      "reviews_url      object\n",
      "specs            object\n",
      "price           float64\n",
      "early_access    float64\n",
      "item_id          object\n",
      "developer        object\n",
      "dtype: object\n"
     ]
    }
   ],
   "source": [
    "#Vemos el tipo de datos de las columnas en el archivo parquet:\n",
    "\n",
    "df_1_steam_games_copy = pd.read_parquet('/Users/luisalbertocerelli/Desktop/00-Todo/Data Science/01-Full Time/TI_1/Datasets_para_Render/steam_games.parquet')\n",
    "print(df_1_steam_games_copy.dtypes)"
   ]
  },
  {
   "cell_type": "code",
   "execution_count": 6,
   "metadata": {},
   "outputs": [
    {
     "name": "stdout",
     "output_type": "stream",
     "text": [
      "Peso del archivo steam_games.parquet: 2632.12 KB\n",
      "Peso del archivo steam_games.csv: 9906.73 KB\n"
     ]
    }
   ],
   "source": [
    "# Vemos el peso en kb de los archivos generados:\n",
    "print(f'Peso del archivo steam_games.parquet: {os.path.getsize(file_path) / 1024:.2f} KB')\n",
    "print(f'Peso del archivo steam_games.csv: {os.path.getsize(csv_file_path) / 1024:.2f} KB')\n"
   ]
  }
 ],
 "metadata": {
  "kernelspec": {
   "display_name": "Python 3",
   "language": "python",
   "name": "python3"
  },
  "language_info": {
   "codemirror_mode": {
    "name": "ipython",
    "version": 3
   },
   "file_extension": ".py",
   "mimetype": "text/x-python",
   "name": "python",
   "nbconvert_exporter": "python",
   "pygments_lexer": "ipython3",
   "version": "3.12.3"
  }
 },
 "nbformat": 4,
 "nbformat_minor": 2
}
