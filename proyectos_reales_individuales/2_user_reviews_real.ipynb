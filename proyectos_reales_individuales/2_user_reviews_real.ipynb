{
 "cells": [
  {
   "cell_type": "code",
   "execution_count": 3,
   "metadata": {},
   "outputs": [
    {
     "name": "stdout",
     "output_type": "stream",
     "text": [
      "Archivo user_reviews.parquet y user_reviews.csv creado con exito!\n"
     ]
    },
    {
     "data": {
      "text/plain": [
       "CompletedProcess(args=['open', '-R', '/Users/luisalbertocerelli/Desktop/00-Todo/Data Science/01-Full Time/TI_1/Datasets_para_Render/user_reviews.parquet'], returncode=0)"
      ]
     },
     "execution_count": 3,
     "metadata": {},
     "output_type": "execute_result"
    }
   ],
   "source": [
    "import ast\n",
    "import pandas as pd\n",
    "from textblob import TextBlob\n",
    "import subprocess\n",
    "import os\n",
    "import numpy as np  \n",
    "\n",
    "archivo = '/Users/luisalbertocerelli/Desktop/00-Todo/Data Science/01-Full Time/TI_1/Datasets_ORIGINALES/json descomprimidos/2_user_reviews.json'\n",
    "\n",
    "data = []\n",
    "\n",
    "with open(archivo, 'r', encoding='utf-8') as file:\n",
    "    for line in file:\n",
    "        try:\n",
    "            json_data = ast.literal_eval(line)\n",
    "            data.append(json_data)\n",
    "        except ValueError as e:\n",
    "            print(f\"Error en la línea: {line}\")\n",
    "            continue\n",
    "\n",
    "df2_user_reviews = pd.DataFrame(data)\n",
    "\n",
    "# Hacemos un csv del df original:\n",
    "df2_user_reviews.to_csv('/Users/luisalbertocerelli/Desktop/00-Todo/Data Science/01-Full Time/TI_1/Datasets_ORIGINALES/csv/user_reviews_ORIGINAL.csv', index=False)\n",
    "\n",
    "# Hacemos una copia para no modificar el original:\n",
    "df2_user_reviews_copy = df2_user_reviews.copy()\n",
    "\n",
    "# Dejamos solamente 2000 filas al azar para hacer pruebas con menos datos:\n",
    "#df2_user_reviews_copy_2000 = df2_user_reviews_copy.sample(2000, random_state=42)\n",
    "\n",
    "# y Reindexamos los indices:\n",
    "#df2_user_reviews_copy.reset_index(drop=True, inplace=True)\n",
    "\n",
    "# Función para análisis de sentimiento\n",
    "def sentiment_analysis(review):\n",
    "    if pd.isna(review).any():\n",
    "        return 1  # Neutral si no hay review\n",
    "    review = ' '.join([d['review'] for d in review])  # Convertir la lista de diccionarios en una cadena\n",
    "    analysis = TextBlob(review).sentiment\n",
    "    if analysis.polarity > 0:\n",
    "        return 2  # Positivo\n",
    "    elif analysis.polarity == 0:\n",
    "        return 1  # Neutral\n",
    "    else:\n",
    "        return 0  # Negativo\n",
    "\n",
    "# Agregamos la columna de análisis de sentimiento:\n",
    "df2_user_reviews['sentiment_analysis'] = df2_user_reviews['reviews'].apply(sentiment_analysis)\n",
    "\n",
    "# Reemplazamos la columna 'review'\n",
    "df2_user_reviews.drop(columns=['reviews'], inplace=True)\n",
    "\n",
    "#Paso la columna sentiment_analysis a int:\n",
    "df2_user_reviews['sentiment_analysis'] = df2_user_reviews['sentiment_analysis'].astype(int)\n",
    "\n",
    "# Comprimimos a parquet y lo colocamos en la carpeta 'Datasets_para_Render', colocando su nombre original:\n",
    "df2_user_reviews.to_parquet('/Users/luisalbertocerelli/Desktop/00-Todo/Data Science/01-Full Time/TI_1/Datasets_para_Render/user_reviews.parquet')\n",
    "\n",
    "# Generamos un CSV con los datos:\n",
    "df2_user_reviews.to_csv('/Users/luisalbertocerelli/Desktop/00-Todo/Data Science/01-Full Time/TI_1/Datasets_para_Render/user_reviews.csv', index=False)\n",
    "\n",
    " # Imprimimos entonces el exito de la operacion y dejamos el link para acceder al archivo:\n",
    "print('Archivo user_reviews.parquet y user_reviews.csv creado con exito!')\n",
    "\n",
    "# Y dejamos el link para acceder a los archivos, para ello definimos las rutas:\n",
    "file_path = os.path.abspath('/Users/luisalbertocerelli/Desktop/00-Todo/Data Science/01-Full Time/TI_1/Datasets_para_Render/user_reviews.parquet')\n",
    "\n",
    "# Define la ruta del archivo CSV\n",
    "csv_file_path = os.path.abspath('/Users/luisalbertocerelli/Desktop/00-Todo/Data Science/01-Full Time/TI_1/Datasets_para_Render/user_reviews.csv')\n",
    "\n",
    "# Abre la ubicación del archivo CSV en Finder\n",
    "subprocess.run(['open', '-R', csv_file_path])\n",
    "\n",
    "# Abre la ubicación del archivo en Finder (Mac)\n",
    "subprocess.run(['open', '-R', file_path])\n",
    "\n",
    "\n",
    "\n"
   ]
  },
  {
   "cell_type": "code",
   "execution_count": 5,
   "metadata": {},
   "outputs": [
    {
     "name": "stdout",
     "output_type": "stream",
     "text": [
      "user_id               object\n",
      "user_url              object\n",
      "sentiment_analysis     int64\n",
      "dtype: object\n"
     ]
    }
   ],
   "source": [
    "#Vemos el tipo de datos de las columnas del archivo parquet:\n",
    "df2_user_reviews_copy = pd.read_parquet('/Users/luisalbertocerelli/Desktop/00-Todo/Data Science/01-Full Time/TI_1/Datasets_para_Render/user_reviews.parquet')\n",
    "print(df2_user_reviews_copy.dtypes)\n"
   ]
  },
  {
   "cell_type": "code",
   "execution_count": 2,
   "metadata": {},
   "outputs": [
    {
     "name": "stdout",
     "output_type": "stream",
     "text": [
      "Peso del archivo user_reviews.parquet: 681.47 KB\n",
      "Peso del archivo user_reviews.csv: 1627.86 KB\n"
     ]
    }
   ],
   "source": [
    "# Vemos el peso en kb de los archivos generados:\n",
    "print(f'Peso del archivo user_reviews.parquet: {os.path.getsize(file_path) / 1024:.2f} KB')\n",
    "print(f'Peso del archivo user_reviews.csv: {os.path.getsize(csv_file_path) / 1024:.2f} KB')\n"
   ]
  }
 ],
 "metadata": {
  "kernelspec": {
   "display_name": "Python 3",
   "language": "python",
   "name": "python3"
  },
  "language_info": {
   "codemirror_mode": {
    "name": "ipython",
    "version": 3
   },
   "file_extension": ".py",
   "mimetype": "text/x-python",
   "name": "python",
   "nbconvert_exporter": "python",
   "pygments_lexer": "ipython3",
   "version": "3.12.3"
  }
 },
 "nbformat": 4,
 "nbformat_minor": 2
}
